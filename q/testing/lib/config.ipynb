{
 "cells": [
  {
   "cell_type": "code",
   "execution_count": 6,
   "id": "a7534a27",
   "metadata": {},
   "outputs": [],
   "source": [
    "import os"
   ]
  },
  {
   "cell_type": "code",
   "execution_count": 24,
   "id": "89586759",
   "metadata": {},
   "outputs": [],
   "source": [
    "def generate_configurations(template_file, values_list, output_dir):\n",
    "    if not os.path.exists(output_dir):\n",
    "        os.makedirs(output_dir)\n",
    "    \n",
    "    if not os.path.exists(output_dir):\n",
    "        os.makedirs(output_dir)\n",
    "    \n",
    "    # Načtení základního souboru\n",
    "    with open(template_file, 'r') as file:\n",
    "        template_content = file.read()\n",
    "    \n",
    "    # Zjistíme počet `{}` v souboru\n",
    "    num_degrees = template_content.count('{}')\n",
    "    num_unique_degrees = len(values_list)  # Počet stupňů volnosti pro jeden atom\n",
    "    \n",
    "    if num_degrees == 0:\n",
    "        raise ValueError(\"Soubor neobsahuje žádné stupně volnosti.\")\n",
    "    \n",
    "    if num_degrees % num_unique_degrees != 0:\n",
    "        raise ValueError(\"Počet hodnot pro stupně volnosti neodpovídá správnému rozložení v molekule.\")\n",
    "    \n",
    "    repeat_factor = num_degrees // num_unique_degrees  # Kolikrát se mají hodnoty opakovat\n",
    "    \n",
    "    # Generování konfigurací\n",
    "    num_configs = len(values_list[0])  # Počet konfigurací podle první osy\n",
    "    for i in range(num_configs):\n",
    "        values = [values_list[j % num_unique_degrees][i] for j in range(num_degrees)]\n",
    "        filled_content = template_content.format(*values)\n",
    "        \n",
    "        # Uložení souboru\n",
    "        config_filename = f\"{os.path.splitext(os.path.basename(template_file))[0]}_{i+1}.txt\"\n",
    "        config_path = os.path.join(output_dir, config_filename)\n",
    "        with open(config_path, 'w') as config_file:\n",
    "            config_file.write(filled_content)\n",
    "        \n",
    "        print(f\"Konfigurace {config_filename} vygenerována.\")"
   ]
  },
  {
   "cell_type": "code",
   "execution_count": 25,
   "id": "a18c1404",
   "metadata": {},
   "outputs": [
    {
     "name": "stdout",
     "output_type": "stream",
     "text": [
      "Konfigurace H2_1.txt vygenerována.\n",
      "Konfigurace H2_2.txt vygenerována.\n",
      "Konfigurace H2_3.txt vygenerována.\n",
      "Konfigurace H2_4.txt vygenerována.\n",
      "Konfigurace BH3_1.txt vygenerována.\n",
      "Konfigurace BH3_2.txt vygenerována.\n",
      "Konfigurace He2_1.txt vygenerována.\n",
      "Konfigurace He2_2.txt vygenerována.\n",
      "Konfigurace He2_3.txt vygenerována.\n",
      "Konfigurace N2_1.txt vygenerována.\n",
      "Konfigurace N2_2.txt vygenerována.\n",
      "Konfigurace N2_3.txt vygenerována.\n",
      "Konfigurace LiH_1.txt vygenerována.\n",
      "Konfigurace LiH_2.txt vygenerována.\n",
      "Konfigurace LiH_3.txt vygenerována.\n",
      "Konfigurace C2H4_1.txt vygenerována.\n",
      "Konfigurace C2H4_2.txt vygenerována.\n",
      "Konfigurace CO2_1.txt vygenerována.\n",
      "Konfigurace CO2_2.txt vygenerována.\n",
      "Konfigurace CO2_3.txt vygenerována.\n",
      "Konfigurace HF_1.txt vygenerována.\n",
      "Konfigurace HF_2.txt vygenerována.\n",
      "Konfigurace HF_3.txt vygenerována.\n",
      "Konfigurace NH3_1.txt vygenerována.\n",
      "Konfigurace NH3_2.txt vygenerována.\n",
      "Konfigurace BeH2_1.txt vygenerována.\n",
      "Konfigurace BeH2_2.txt vygenerována.\n",
      "Konfigurace BeH2_3.txt vygenerována.\n",
      "Konfigurace CH4_1.txt vygenerována.\n",
      "Konfigurace CH4_2.txt vygenerována.\n",
      "Konfigurace C2H2_1.txt vygenerována.\n",
      "Konfigurace C2H2_2.txt vygenerována.\n",
      "Konfigurace O2_1.txt vygenerována.\n",
      "Konfigurace O2_2.txt vygenerována.\n",
      "Konfigurace O2_3.txt vygenerována.\n",
      "Konfigurace H2O_1.txt vygenerována.\n",
      "Konfigurace H2O_2.txt vygenerována.\n",
      "Konfigurace H2O_3.txt vygenerována.\n"
     ]
    }
   ],
   "source": [
    "template_dir = \"molecule_templates\"\n",
    "output_directory = \"molecule_configs\"\n",
    "\n",
    "# Definujeme hodnoty pro `{}` pouze pro jeden stupeň volnosti a ostatní se dopočítají podle šablony\n",
    "values_dict = {\n",
    "    \"H2.txt\": [[0.74, 0.76, 0.78, 0.80]],\n",
    "    \"H2O.txt\": [[0.95, 0.97, 0.99]],  # Hodnoty pro první atom, ostatní se vygenerují z nich\n",
    "    \"NH3.txt\": [[0.94, 0.96]],  # Pouze první atom, ostatní budou automaticky doplněny\n",
    "    \"CH4.txt\": [[0.63, 0.65]],\n",
    "    \"CO2.txt\": [[1.16, 1.18, 1.20]],\n",
    "    \"C2H2.txt\": [[1.20, 1.22]],\n",
    "    \"C2H4.txt\": [[1.33, 1.35]],\n",
    "    \"He2.txt\": [[1.0, 1.1, 1.2]],\n",
    "    \"LiH.txt\": [[1.60, 1.65, 1.70]],\n",
    "    \"BeH2.txt\": [[1.34, 1.36, 1.38]],\n",
    "    \"BH3.txt\": [[0.91, 0.93]],\n",
    "    \"N2.txt\": [[1.10, 1.12, 1.14]],\n",
    "    \"O2.txt\": [[1.21, 1.23, 1.25]],\n",
    "    \"HF.txt\": [[0.92, 0.94, 0.96]]\n",
    "}\n",
    "\n",
    "for template_file in os.listdir(template_dir):\n",
    "    template_path = os.path.join(template_dir, template_file)\n",
    "    if template_file in values_dict:\n",
    "        generate_configurations(template_path, values_dict[template_file], output_directory)\n"
   ]
  },
  {
   "cell_type": "code",
   "execution_count": null,
   "id": "18f4efde",
   "metadata": {},
   "outputs": [],
   "source": []
  }
 ],
 "metadata": {
  "kernelspec": {
   "display_name": "Python 3 (ipykernel)",
   "language": "python",
   "name": "python3"
  },
  "language_info": {
   "codemirror_mode": {
    "name": "ipython",
    "version": 3
   },
   "file_extension": ".py",
   "mimetype": "text/x-python",
   "name": "python",
   "nbconvert_exporter": "python",
   "pygments_lexer": "ipython3",
   "version": "3.9.6"
  }
 },
 "nbformat": 4,
 "nbformat_minor": 5
}
