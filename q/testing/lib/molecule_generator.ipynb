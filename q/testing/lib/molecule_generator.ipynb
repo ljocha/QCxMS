{
 "cells": [
  {
   "cell_type": "code",
   "execution_count": 9,
   "metadata": {
    "vscode": {
     "languageId": "plaintext"
    }
   },
   "outputs": [],
   "source": [
    "import os"
   ]
  },
  {
   "cell_type": "code",
   "execution_count": 12,
   "metadata": {
    "vscode": {
     "languageId": "plaintext"
    }
   },
   "outputs": [],
   "source": [
    "molecule_templates = {\n",
    "    \"H2.txt\": \"H 0.0 0.0 0.0\\nH {} 0.0 0.0\",\n",
    "    \"H2O.txt\": \"O 0.0 0.0 0.0\\nH {} {} 0.0\\nH -{} {} 0.0\",\n",
    "    \"NH3.txt\": \"N 0.0 0.0 0.0\\nH {} {} {}\\nH -{} {} {}\\nH {} -{} {}\",\n",
    "    \"CH4.txt\": \"C 0.0 0.0 0.0\\nH {} {} {}\\nH -{} -{} {}\\nH -{} {} -{}\\nH {} -{} -{}\",\n",
    "    \"CO2.txt\": \"C 0.0 0.0 0.0\\nO {} 0.0 0.0\\nO -{} 0.0 0.0\",\n",
    "    \"C2H2.txt\": \"C 0.0 0.0 0.0\\nC {} 0.0 0.0\\nH -{} 0.0 0.0\\nH {} 0.0 0.0\",\n",
    "    \"C2H4.txt\": \"C 0.0 0.0 0.0\\nC {} 0.0 0.0\\nH -{} {} 0.0\\nH -{} -{} 0.0\\nH {} {} 0.0\\nH {} -{} 0.0\",\n",
    "    \"He2.txt\": \"He 0.0 0.0 0.0\\nHe {} 0.0 0.0\",\n",
    "    \"LiH.txt\": \"Li 0.0 0.0 0.0\\nH {} 0.0 0.0\",\n",
    "    \"BeH2.txt\": \"Be 0.0 0.0 0.0\\nH {} 0.0 0.0\\nH -{} 0.0 0.0\",\n",
    "    \"BH3.txt\": \"B 0.0 0.0 0.0\\nH {} {} 0.0\\nH -{} {} 0.0\\nH 0.0 -{} {}\",\n",
    "    \"N2.txt\": \"N 0.0 0.0 0.0\\nN {} 0.0 0.0\",\n",
    "    \"O2.txt\": \"O 0.0 0.0 0.0\\nO {} 0.0 0.0\",\n",
    "    \"HF.txt\": \"H 0.0 0.0 0.0\\nF {} 0.0 0.0\"\n",
    "}"
   ]
  },
  {
   "cell_type": "code",
   "execution_count": 13,
   "metadata": {
    "vscode": {
     "languageId": "plaintext"
    }
   },
   "outputs": [],
   "source": [
    "save_directory = \"molecule_templates\"\n",
    "os.makedirs(save_directory, exist_ok=True)\n",
    "\n",
    "file_paths = []\n",
    "for filename, content in molecule_templates.items():\n",
    "    file_path = os.path.join(save_directory, filename)\n",
    "    with open(file_path, \"w\") as file:\n",
    "        file.write(\"energy\\ngradient\\n*xyz\\n\")\n",
    "        file.write(content)\n",
    "        file.write(\"\\n*\\n\")\n",
    "    file_paths.append(file_path)"
   ]
  },
  {
   "cell_type": "code",
   "execution_count": null,
   "metadata": {},
   "outputs": [],
   "source": []
  }
 ],
 "metadata": {
  "kernelspec": {
   "display_name": "Python 3 (ipykernel)",
   "language": "python",
   "name": "python3"
  },
  "language_info": {
   "codemirror_mode": {
    "name": "ipython",
    "version": 3
   },
   "file_extension": ".py",
   "mimetype": "text/x-python",
   "name": "python",
   "nbconvert_exporter": "python",
   "pygments_lexer": "ipython3",
   "version": "3.8.10"
  }
 },
 "nbformat": 4,
 "nbformat_minor": 4
}
