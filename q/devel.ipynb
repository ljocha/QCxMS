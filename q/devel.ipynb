{
 "cells": [
  {
   "cell_type": "code",
   "execution_count": 74,
   "id": "90714646-91a9-4a7e-81d6-503b2ebe0b6e",
   "metadata": {},
   "outputs": [],
   "source": [
    "import sys\n",
    "from rdkit import Chem\n",
    "from rdkit.Chem import AllChem\n",
    "from rdkit.Geometry import Point3D\n",
    "from rdkit.Chem import Draw\n",
    "from rdkit.Chem.rdDetermineBonds import DetermineBonds\n",
    "\n",
    "import py3Dmol\n"
   ]
  },
  {
   "cell_type": "code",
   "execution_count": 2,
   "id": "c2e12cb6-9ed7-4e99-b996-4dd157444494",
   "metadata": {},
   "outputs": [],
   "source": [
    "m = Chem.MolFromSmiles('C')"
   ]
  },
  {
   "cell_type": "code",
   "execution_count": 3,
   "id": "4409d7bf-89f0-41ca-9157-6a66a26e57ff",
   "metadata": {},
   "outputs": [
    {
     "data": {
      "image/png": "[encoded data removed]",
      "text/plain": [
       "<rdkit.Chem.rdchem.Mol at 0x7fa448f9dc40>"
      ]
     },
     "execution_count": 3,
     "metadata": {},
     "output_type": "execute_result"
    }
   ],
   "source": [
    "m"
   ]
  },
  {
   "cell_type": "code",
   "execution_count": 72,
   "id": "4bb7e122-c019-452d-92df-36f6ffd6bf01",
   "metadata": {},
   "outputs": [
    {
     "data": {
      "application/3dmoljs_load.v0": "<div id=\"3dmolviewer_1728573071103304\"  style=\"position: relative; width: 400px; height: 300px;\">\n        <p id=\"3dmolwarning_1728573071103304\" style=\"background-color:#ffcccc;color:black\">3Dmol.js failed to load for some reason.  Please check your browser console for error messages.<br></p>\n        </div>\n<script>\n\nvar loadScriptAsync = function(uri){\n  return new Promise((resolve, reject) => {\n    //this is to ignore the existence of requirejs amd\n    var savedexports, savedmodule;\n    if (typeof exports !== 'undefined') savedexports = exports;\n    else exports = {}\n    if (typeof module !== 'undefined') savedmodule = module;\n    else module = {}\n\n    var tag = document.createElement('script');\n    tag.src = uri;\n    tag.async = true;\n    tag.onload = () => {\n        exports = savedexports;\n        module = savedmodule;\n        resolve();\n    };\n  var firstScriptTag = document.getElementsByTagName('script')[0];\n  firstScriptTag.parentNode.insertBefore(tag, firstScriptTag);\n});\n};\n\nif(typeof $3Dmolpromise === 'undefined') {\n$3Dmolpromise = null;\n  $3Dmolpromise = loadScriptAsync('https://cdnjs.cloudflare.com/ajax/libs/3Dmol/2.4.0/3Dmol-min.js');\n}\n\nvar viewer_1728573071103304 = null;\nvar warn = document.getElementById(\"3dmolwarning_1728573071103304\");\nif(warn) {\n    warn.parentNode.removeChild(warn);\n}\n$3Dmolpromise.then(function() {\nviewer_1728573071103304 = $3Dmol.createViewer(document.getElementById(\"3dmolviewer_1728573071103304\"),{backgroundColor:\"white\"});\nviewer_1728573071103304.zoomTo();\n\tviewer_1728573071103304.addModel(\"\\n     RDKit          3D\\n\\n  9  0  0  0  0  0  0  0  0  0999 V2000\\n    0.0383   -0.8875    0.6939 C   0  0  0  0  0  0  0  0  0  0  0  0\\n   -0.6312    0.4680    0.9661 C   0  0  0  0  0  0  0  0  0  0  0  0\\n   -0.6813   -1.6746    0.7980 H   0  0  0  0  0  0  0  0  0  0  0  0\\n   -0.2835    1.3418    2.0168 O   0  0  0  0  0  0  0  0  0  0  0  0\\n    0.6215    1.2085    2.4254 H   0  0  0  0  0  0  0  0  0  0  0  0\\n   -0.4395    1.0318    0.0474 H   0  0  0  0  0  0  0  0  0  0  0  0\\n   -1.7202    0.4595    1.0683 H   0  0  0  0  0  0  0  0  0  0  0  0\\n    0.4635   -0.8506   -0.4135 H   0  0  0  0  0  0  0  0  0  0  0  0\\n    0.8565   -1.0168    1.6038 H   0  0  0  0  0  0  0  0  0  0  0  0\\nM  END\\n\",\"mol\");\n\tviewer_1728573071103304.setStyle({\"stick\": {}});\n\tviewer_1728573071103304.zoomTo();\nviewer_1728573071103304.render();\n});\n</script>",
      "text/html": [
       "<div id=\"3dmolviewer_1728573071103304\"  style=\"position: relative; width: 400px; height: 300px;\">\n",
       "        <p id=\"3dmolwarning_1728573071103304\" style=\"background-color:#ffcccc;color:black\">3Dmol.js failed to load for some reason.  Please check your browser console for error messages.<br></p>\n",
       "        </div>\n",
       "<script>\n",
       "\n",
       "var loadScriptAsync = function(uri){\n",
       "  return new Promise((resolve, reject) => {\n",
       "    //this is to ignore the existence of requirejs amd\n",
       "    var savedexports, savedmodule;\n",
       "    if (typeof exports !== 'undefined') savedexports = exports;\n",
       "    else exports = {}\n",
       "    if (typeof module !== 'undefined') savedmodule = module;\n",
       "    else module = {}\n",
       "\n",
       "    var tag = document.createElement('script');\n",
       "    tag.src = uri;\n",
       "    tag.async = true;\n",
       "    tag.onload = () => {\n",
       "        exports = savedexports;\n",
       "        module = savedmodule;\n",
       "        resolve();\n",
       "    };\n",
       "  var firstScriptTag = document.getElementsByTagName('script')[0];\n",
       "  firstScriptTag.parentNode.insertBefore(tag, firstScriptTag);\n",
       "});\n",
       "};\n",
       "\n",
       "if(typeof $3Dmolpromise === 'undefined') {\n",
       "$3Dmolpromise = null;\n",
       "  $3Dmolpromise = loadScriptAsync('https://cdnjs.cloudflare.com/ajax/libs/3Dmol/2.4.0/3Dmol-min.js');\n",
       "}\n",
       "\n",
       "var viewer_1728573071103304 = null;\n",
       "var warn = document.getElementById(\"3dmolwarning_1728573071103304\");\n",
       "if(warn) {\n",
       "    warn.parentNode.removeChild(warn);\n",
       "}\n",
       "$3Dmolpromise.then(function() {\n",
       "viewer_1728573071103304 = $3Dmol.createViewer(document.getElementById(\"3dmolviewer_1728573071103304\"),{backgroundColor:\"white\"});\n",
       "viewer_1728573071103304.zoomTo();\n",
       "\tviewer_1728573071103304.addModel(\"\\n     RDKit          3D\\n\\n  9  0  0  0  0  0  0  0  0  0999 V2000\\n    0.0383   -0.8875    0.6939 C   0  0  0  0  0  0  0  0  0  0  0  0\\n   -0.6312    0.4680    0.9661 C   0  0  0  0  0  0  0  0  0  0  0  0\\n   -0.6813   -1.6746    0.7980 H   0  0  0  0  0  0  0  0  0  0  0  0\\n   -0.2835    1.3418    2.0168 O   0  0  0  0  0  0  0  0  0  0  0  0\\n    0.6215    1.2085    2.4254 H   0  0  0  0  0  0  0  0  0  0  0  0\\n   -0.4395    1.0318    0.0474 H   0  0  0  0  0  0  0  0  0  0  0  0\\n   -1.7202    0.4595    1.0683 H   0  0  0  0  0  0  0  0  0  0  0  0\\n    0.4635   -0.8506   -0.4135 H   0  0  0  0  0  0  0  0  0  0  0  0\\n    0.8565   -1.0168    1.6038 H   0  0  0  0  0  0  0  0  0  0  0  0\\nM  END\\n\",\"mol\");\n",
       "\tviewer_1728573071103304.setStyle({\"stick\": {}});\n",
       "\tviewer_1728573071103304.zoomTo();\n",
       "viewer_1728573071103304.render();\n",
       "});\n",
       "</script>"
      ]
     },
     "metadata": {},
     "output_type": "display_data"
    },
    {
     "data": {
      "text/plain": [
       "<py3Dmol.view at 0x7fa44cb814c0>"
      ]
     },
     "execution_count": 72,
     "metadata": {},
     "output_type": "execute_result"
    }
   ],
   "source": [
    "atypes = []\n",
    "coords = []\n",
    "energy = False\n",
    "gradient = False\n",
    "xyz = False\n",
    "\n",
    "with open('moh.in') as inp:\n",
    "  for l in inp:\n",
    "    l=l.strip()\n",
    "\n",
    "    if l == '*': xyz = False\n",
    "\n",
    "    if xyz:\n",
    "      s = l.split()\n",
    "#      if s[0] != 'H':\n",
    "      atypes.append(s[0])\n",
    "      coords.append(list(map(float,s[1:])))\n",
    "\n",
    "    if l == 'energy': energy = True\n",
    "    if l == 'gradient': gradient = True\n",
    "\n",
    "    if l == '* xyz': xyz = True\n",
    "\n",
    "mol = Chem.RWMol()\n",
    "\n",
    "idx = [ mol.AddAtom(Chem.Atom(a)) for a in atypes ]\n",
    "\n",
    "conf = Chem.Conformer(mol.GetNumAtoms())\n",
    "for i,c in enumerate(coords):\n",
    "  conf.SetAtomPosition(i,Point3D(*c))\n",
    "\n",
    "mol.AddConformer(conf)\n",
    "\n",
    "view = py3Dmol.view(width=400, height=300)\n",
    "view.addModel(Chem.MolToMolBlock(mol.GetMol()), 'mol')\n",
    "view.setStyle({'stick': {}})\n",
    "view.zoomTo()\n"
   ]
  },
  {
   "cell_type": "code",
   "execution_count": 75,
   "id": "0f8e32fc-72b0-4d29-8d58-67fd10cb3d94",
   "metadata": {},
   "outputs": [],
   "source": [
    "DetermineBonds(mol)"
   ]
  },
  {
   "cell_type": "code",
   "execution_count": 76,
   "id": "f602cce6-469e-4d8f-b22a-b26817795d70",
   "metadata": {},
   "outputs": [
    {
     "data": {
      "text/plain": [
       "rdkit.Chem.rdmolops.SanitizeFlags.SANITIZE_NONE"
      ]
     },
     "execution_count": 76,
     "metadata": {},
     "output_type": "execute_result"
    }
   ],
   "source": [
    "Chem.SanitizeMol(mol)"
   ]
  },
  {
   "cell_type": "code",
   "execution_count": 77,
   "id": "9bb66955-87c5-4729-a94c-037a713ea844",
   "metadata": {},
   "outputs": [
    {
     "data": {
      "image/png": "[encoded data removed]",
      "text/plain": [
       "<rdkit.Chem.rdchem.RWMol at 0x7fa444d42e80>"
      ]
     },
     "execution_count": 77,
     "metadata": {},
     "output_type": "execute_result"
    }
   ],
   "source": [
    "mol"
   ]
  },
  {
   "cell_type": "code",
   "execution_count": 6,
   "id": "94e35f68-da5a-49da-8682-29b2dee0a601",
   "metadata": {},
   "outputs": [
    {
     "data": {
      "text/plain": [
       "<rdkit.Chem.rdchem.Conformer at 0x7fa448fceed0>"
      ]
     },
     "execution_count": 6,
     "metadata": {},
     "output_type": "execute_result"
    }
   ],
   "source": [
    "conf"
   ]
  },
  {
   "cell_type": "code",
   "execution_count": 7,
   "id": "6737eaf3-67f4-4958-a4ed-ae97fb72885a",
   "metadata": {},
   "outputs": [
    {
     "data": {
      "text/plain": [
       "[0, 1, 2, 3, 4, 5, 6, 7, 8]"
      ]
     },
     "execution_count": 7,
     "metadata": {},
     "output_type": "execute_result"
    }
   ],
   "source": [
    "idx"
   ]
  },
  {
   "cell_type": "code",
   "execution_count": 8,
   "id": "b0c5149c-d9ca-4105-933f-9c8f032bbcc2",
   "metadata": {},
   "outputs": [
    {
     "data": {
      "image/png": "[encoded data removed]",
      "text/plain": [
       "<rdkit.Chem.rdchem.Mol at 0x7fa448f9e2d0>"
      ]
     },
     "execution_count": 8,
     "metadata": {},
     "output_type": "execute_result"
    }
   ],
   "source": [
    "mol.GetMol()"
   ]
  },
  {
   "cell_type": "code",
   "execution_count": 12,
   "id": "adfb238b-6e45-4bcd-91f9-33b5bc7d27ea",
   "metadata": {},
   "outputs": [],
   "source": [
    "mol=Chem.RWMol()"
   ]
  },
  {
   "cell_type": "code",
   "execution_count": 14,
   "id": "7caff40c-6995-46b1-a7d7-c912300ebd79",
   "metadata": {},
   "outputs": [
    {
     "data": {
      "text/plain": [
       "0"
      ]
     },
     "execution_count": 14,
     "metadata": {},
     "output_type": "execute_result"
    }
   ],
   "source": [
    "mol.AddAtom(Chem.Atom('C'),)"
   ]
  },
  {
   "cell_type": "code",
   "execution_count": 18,
   "id": "820987b9-8c63-4c00-85db-e86fa950e497",
   "metadata": {},
   "outputs": [
    {
     "data": {
      "text/plain": [
       "<rdkit.Chem.rdchem.Atom at 0x7fa444db93f0>"
      ]
     },
     "execution_count": 18,
     "metadata": {},
     "output_type": "execute_result"
    }
   ],
   "source": [
    "list(mol.GetAtoms())[0]"
   ]
  },
  {
   "cell_type": "code",
   "execution_count": 32,
   "id": "08b66e8f-9656-411a-a01a-89130906ddef",
   "metadata": {},
   "outputs": [
    {
     "data": {
      "image/png": "[encoded data removed]",
      "text/plain": [
       "<rdkit.Chem.rdchem.Mol at 0x7fa444faf610>"
      ]
     },
     "execution_count": 32,
     "metadata": {},
     "output_type": "execute_result"
    }
   ],
   "source": [
    "mol = Chem.AddHs(Chem.MolFromSmiles('CCO'))\n",
    "mol"
   ]
  },
  {
   "cell_type": "code",
   "execution_count": 69,
   "id": "8f99192e-7c4a-4361-b41e-846a9896e8da",
   "metadata": {},
   "outputs": [
    {
     "data": {
      "text/plain": [
       "[6, 6, 8]"
      ]
     },
     "execution_count": 69,
     "metadata": {},
     "output_type": "execute_result"
    }
   ],
   "source": [
    "[ a.GetAtomicNum() for a in mol.GetAtoms() ]"
   ]
  },
  {
   "cell_type": "code",
   "execution_count": 26,
   "id": "f720c747-3aa4-4c9f-a0a6-a5f4ba7807c4",
   "metadata": {},
   "outputs": [
    {
     "data": {
      "text/plain": [
       "6"
      ]
     },
     "execution_count": 26,
     "metadata": {},
     "output_type": "execute_result"
    }
   ],
   "source": [
    "a.GetAtomicNum()"
   ]
  },
  {
   "cell_type": "code",
   "execution_count": 27,
   "id": "8ee1eb37-c70b-4067-9173-003cbe18fb41",
   "metadata": {},
   "outputs": [
    {
     "data": {
      "text/plain": [
       "[[0.038333697995, -0.887482154869, 0.69388234621],\n",
       " [-0.631205021844, 0.467998838383, 0.966096159495],\n",
       " [-0.681305549352, -1.674550056584, 0.798035404905],\n",
       " [-0.283503421749, 1.341758681656, 2.016758948534],\n",
       " [0.621488257056, 1.208485029665, 2.425364587924],\n",
       " [-0.439468143873, 1.031806572206, 0.047398621041],\n",
       " [-1.720242818782, 0.459519083553, 1.068285413205],\n",
       " [0.463476733391, -0.850625760662, -0.41350214208],\n",
       " [0.856510911631, -1.016808878108, 1.603845419787]]"
      ]
     },
     "execution_count": 27,
     "metadata": {},
     "output_type": "execute_result"
    }
   ],
   "source": [
    "coords"
   ]
  },
  {
   "cell_type": "code",
   "execution_count": 29,
   "id": "a0b36c6c-d593-4c78-ba69-4f98ad2d98a3",
   "metadata": {},
   "outputs": [
    {
     "data": {
      "text/plain": [
       "[[-0.283503421749, 1.341758681656, 2.016758948534],\n",
       " [0.621488257056, 1.208485029665, 2.425364587924]]"
      ]
     },
     "execution_count": 29,
     "metadata": {},
     "output_type": "execute_result"
    }
   ],
   "source": [
    "[ coords[i] for i in [3,4] ]"
   ]
  },
  {
   "cell_type": "code",
   "execution_count": 34,
   "id": "75848a16-b466-45b0-805d-86495346d03b",
   "metadata": {},
   "outputs": [
    {
     "name": "stderr",
     "output_type": "stream",
     "text": [
      "[14:34:07] Cannot write molecules with no conformers to XYZ block\n"
     ]
    },
    {
     "data": {
      "text/plain": [
       "''"
      ]
     },
     "execution_count": 34,
     "metadata": {},
     "output_type": "execute_result"
    }
   ],
   "source": [
    "Chem.MolToXYZBlock(mol)"
   ]
  },
  {
   "cell_type": "code",
   "execution_count": 47,
   "id": "f7788aa2-6292-4e55-8127-f2bdb01e4931",
   "metadata": {},
   "outputs": [],
   "source": [
    "mol=Chem.MolFromSmiles('C')"
   ]
  },
  {
   "cell_type": "code",
   "execution_count": 48,
   "id": "490b2342-a1ca-4473-8da3-e446bdd14f6d",
   "metadata": {},
   "outputs": [],
   "source": [
    "conf = Chem.Conformer(1)"
   ]
  },
  {
   "cell_type": "code",
   "execution_count": 49,
   "id": "f4b0d46f-7a73-4a8f-800c-f8ba85c547de",
   "metadata": {},
   "outputs": [],
   "source": [
    "conf.SetAtomPosition(0,Point3D(0,1,2))"
   ]
  },
  {
   "cell_type": "code",
   "execution_count": 50,
   "id": "a00a217b-1ee6-40f7-9c75-2ebc067b85c6",
   "metadata": {},
   "outputs": [
    {
     "data": {
      "text/plain": [
       "0"
      ]
     },
     "execution_count": 50,
     "metadata": {},
     "output_type": "execute_result"
    }
   ],
   "source": [
    "mol.AddConformer(conf)"
   ]
  },
  {
   "cell_type": "code",
   "execution_count": 52,
   "id": "a1beb063-adcf-40c3-b2ff-2ff72e4f9e53",
   "metadata": {},
   "outputs": [
    {
     "name": "stdout",
     "output_type": "stream",
     "text": [
      "1\n",
      "\n",
      "C      0.000000    1.000000    2.000000\n",
      "\n"
     ]
    }
   ],
   "source": [
    "print(Chem.MolToXYZBlock(mol))"
   ]
  },
  {
   "cell_type": "code",
   "execution_count": 53,
   "id": "d9493b4d-15fc-4d6c-8b12-b3c78053c554",
   "metadata": {},
   "outputs": [],
   "source": [
    "block='''9\n",
    "\n",
    "C         0.038333697995       -0.887482154869        0.693882346210\n",
    "C        -0.631205021844        0.467998838383        0.966096159495\n",
    "H        -0.681305549352       -1.674550056584        0.798035404905\n",
    "O        -0.283503421749        1.341758681656        2.016758948534\n",
    "H         0.621488257056        1.208485029665        2.425364587924\n",
    "H        -0.439468143873        1.031806572206        0.047398621041\n",
    "H        -1.720242818782        0.459519083553        1.068285413205\n",
    "H         0.463476733391       -0.850625760662       -0.413502142080\n",
    "H         0.856510911631       -1.016808878108        1.603845419787\n",
    "'''"
   ]
  },
  {
   "cell_type": "code",
   "execution_count": 56,
   "id": "31b127ff-9fa8-41ec-94c5-10d756ee5f3a",
   "metadata": {},
   "outputs": [],
   "source": [
    "mol = Chem.MolFromXYZBlock(block)"
   ]
  },
  {
   "cell_type": "code",
   "execution_count": 57,
   "id": "37129d3f-8f63-491c-b1bc-190c56dfd922",
   "metadata": {},
   "outputs": [
    {
     "data": {
      "text/plain": [
       "rdkit.Chem.rdmolops.SanitizeFlags.SANITIZE_NONE"
      ]
     },
     "execution_count": 57,
     "metadata": {},
     "output_type": "execute_result"
    }
   ],
   "source": [
    "Chem.SanitizeMol(mol)"
   ]
  },
  {
   "cell_type": "code",
   "execution_count": 58,
   "id": "f0e3c28b-4367-4b7e-9d8e-6367875880b0",
   "metadata": {},
   "outputs": [
    {
     "data": {
      "image/png": "[encoded data removed]",
      "text/plain": [
       "<rdkit.Chem.rdchem.Mol at 0x7fa444d847b0>"
      ]
     },
     "execution_count": 58,
     "metadata": {},
     "output_type": "execute_result"
    }
   ],
   "source": [
    "mol"
   ]
  },
  {
   "cell_type": "code",
   "execution_count": 78,
   "id": "2e0c64ce-b592-4184-9d04-57a4e7f20723",
   "metadata": {},
   "outputs": [
    {
     "data": {
      "text/plain": [
       "29.799456091513996"
      ]
     },
     "execution_count": 78,
     "metadata": {},
     "output_type": "execute_result"
    }
   ],
   "source": [
    "AllChem.UFFGetMoleculeForceField(mol).CalcEnergy()"
   ]
  },
  {
   "cell_type": "code",
   "execution_count": null,
   "id": "908e8f20-7931-45f9-a9f2-9a5a4a4c2b8e",
   "metadata": {},
   "outputs": [],
   "source": [
    "Chem.Calc"
   ]
  },
  {
   "cell_type": "code",
   "execution_count": 70,
   "id": "c62e6dba-0781-486e-a050-6c73ab051197",
   "metadata": {},
   "outputs": [
    {
     "name": "stderr",
     "output_type": "stream",
     "text": [
      "[15:08:29] \n",
      "\n",
      "****\n",
      "Pre-condition Violation\n",
      "getNumImplicitHs() called without preceding call to calcImplicitValence()\n",
      "Violation occurred on line 287 in file /project/build/temp.linux-x86_64-cpython-312/rdkit/Code/GraphMol/Atom.cpp\n",
      "Failed Expression: d_implicitValence > -1\n",
      "----------\n",
      "Stacktrace:\n",
      "----------\n",
      "****\n",
      "\n"
     ]
    },
    {
     "ename": "RuntimeError",
     "evalue": "Pre-condition Violation\n\tgetNumImplicitHs() called without preceding call to calcImplicitValence()\n\tViolation occurred on line 287 in file Code/GraphMol/Atom.cpp\n\tFailed Expression: d_implicitValence > -1\n\tRDKIT: 2024.03.5\n\tBOOST: 1_85\n",
     "output_type": "error",
     "traceback": [
      "\u001b[0;31m---------------------------------------------------------------------------\u001b[0m",
      "\u001b[0;31mRuntimeError\u001b[0m                              Traceback (most recent call last)",
      "Cell \u001b[0;32mIn[70], line 1\u001b[0m\n\u001b[0;32m----> 1\u001b[0m mol\u001b[38;5;241m=\u001b[39mChem\u001b[38;5;241m.\u001b[39mAddHs(mol)\n",
      "\u001b[0;31mRuntimeError\u001b[0m: Pre-condition Violation\n\tgetNumImplicitHs() called without preceding call to calcImplicitValence()\n\tViolation occurred on line 287 in file Code/GraphMol/Atom.cpp\n\tFailed Expression: d_implicitValence > -1\n\tRDKIT: 2024.03.5\n\tBOOST: 1_85\n"
     ]
    }
   ],
   "source": [
    "mol=Chem.AddHs(mol)"
   ]
  },
  {
   "cell_type": "code",
   "execution_count": 66,
   "id": "44d930df-6b3f-43db-a59b-25c159330320",
   "metadata": {},
   "outputs": [
    {
     "data": {
      "image/png": "[encoded data removed]",
      "text/plain": [
       "<rdkit.Chem.rdchem.Mol at 0x7fa444d851c0>"
      ]
     },
     "execution_count": 66,
     "metadata": {},
     "output_type": "execute_result"
    }
   ],
   "source": [
    "mol"
   ]
  },
  {
   "cell_type": "code",
   "execution_count": 67,
   "id": "bd58e132-3bd9-43d3-a440-689af10342ef",
   "metadata": {},
   "outputs": [
    {
     "data": {
      "text/plain": [
       "[6, 6, 1, 8, 1, 1, 1, 1, 1, 1, 1, 1, 1, 1, 1, 1, 1, 1, 1, 1, 1, 1, 1, 1, 1]"
      ]
     },
     "execution_count": 67,
     "metadata": {},
     "output_type": "execute_result"
    }
   ],
   "source": [
    "[ a.GetAtomicNum() for a in mol.GetAtoms() ]"
   ]
  },
  {
   "cell_type": "code",
   "execution_count": 79,
   "id": "78c72ee0-882e-4a79-9eb2-5481d4e1826f",
   "metadata": {},
   "outputs": [
    {
     "ename": "AttributeError",
     "evalue": "'int' object has no attribute '__len__'",
     "output_type": "error",
     "traceback": [
      "\u001b[0;31m---------------------------------------------------------------------------\u001b[0m",
      "\u001b[0;31mAttributeError\u001b[0m                            Traceback (most recent call last)",
      "Cell \u001b[0;32mIn[79], line 4\u001b[0m\n\u001b[1;32m      2\u001b[0m gradient \u001b[38;5;241m=\u001b[39m []\n\u001b[1;32m      3\u001b[0m \u001b[38;5;28;01mfor\u001b[39;00m i \u001b[38;5;129;01min\u001b[39;00m \u001b[38;5;28mrange\u001b[39m(mol\u001b[38;5;241m.\u001b[39mGetNumAtoms()):\n\u001b[0;32m----> 4\u001b[0m     grad \u001b[38;5;241m=\u001b[39m ff\u001b[38;5;241m.\u001b[39mCalcGrad(i)\n\u001b[1;32m      5\u001b[0m     gradient\u001b[38;5;241m.\u001b[39mappend(grad)\n\u001b[1;32m      7\u001b[0m \u001b[38;5;66;03m# Print the energy gradient\u001b[39;00m\n",
      "\u001b[0;31mAttributeError\u001b[0m: 'int' object has no attribute '__len__'"
     ]
    }
   ],
   "source": [
    "ff = AllChem.UFFGetMoleculeForceField(mol)\n",
    "gradient = []\n",
    "for i in range(mol.GetNumAtoms()):\n",
    "    grad = ff.CalcGrad(i)\n",
    "    gradient.append(grad)\n",
    "\n",
    "# Print the energy gradient\n",
    "for i, grad in enumerate(gradient):\n",
    "    print(f'Atom {i}: Gradient = {grad}')"
   ]
  },
  {
   "cell_type": "code",
   "execution_count": 83,
   "id": "6ee4bc98-fee6-4780-995f-d76fda68d24b",
   "metadata": {},
   "outputs": [
    {
     "data": {
      "text/plain": [
       "27"
      ]
     },
     "execution_count": 83,
     "metadata": {},
     "output_type": "execute_result"
    }
   ],
   "source": [
    "len(ff.CalcGrad())"
   ]
  },
  {
   "cell_type": "code",
   "execution_count": 7,
   "id": "3bfea4dd-530a-4596-afb8-2d301080b56d",
   "metadata": {},
   "outputs": [],
   "source": [
    "import numpy as np\n",
    "x = np.array('0.038333697995       -0.887482154869        0.693882346210'.split(),dtype=np.float32)"
   ]
  },
  {
   "cell_type": "code",
   "execution_count": 8,
   "id": "262ce04b-a4db-4c68-86b1-7b5839761043",
   "metadata": {},
   "outputs": [],
   "source": [
    "y = np.array('-0.631205021844        0.467998838383        0.966096159495'.split(),dtype=np.float32)"
   ]
  },
  {
   "cell_type": "code",
   "execution_count": 11,
   "id": "149d9045-9f3e-4210-84e6-0efacea03ac3",
   "metadata": {},
   "outputs": [
    {
     "data": {
      "text/plain": [
       "1.5361352"
      ]
     },
     "execution_count": 11,
     "metadata": {},
     "output_type": "execute_result"
    }
   ],
   "source": [
    "np.sqrt(np.sum((x-y)*(x-y)))"
   ]
  },
  {
   "cell_type": "code",
   "execution_count": 6,
   "id": "c96baa13-06ff-46a1-9c28-ec9df4459e0b",
   "metadata": {},
   "outputs": [
    {
     "data": {
      "text/plain": [
       "array(['-0.631205021844', '0.467998838383', '0.966096159495'],\n",
       "      dtype='<U15')"
      ]
     },
     "execution_count": 6,
     "metadata": {},
     "output_type": "execute_result"
    }
   ],
   "source": [
    "y"
   ]
  },
  {
   "cell_type": "code",
   "execution_count": 12,
   "id": "5a9be36b-8955-4a2b-949f-91ab567ae89f",
   "metadata": {},
   "outputs": [
    {
     "data": {
      "text/plain": [
       "array([ 0.02028532, -0.4696353 ,  0.3671867 ], dtype=float32)"
      ]
     },
     "execution_count": 12,
     "metadata": {},
     "output_type": "execute_result"
    }
   ],
   "source": [
    "x*0.529177210903"
   ]
  },
  {
   "cell_type": "code",
   "execution_count": 13,
   "id": "2c55f0a9-db1c-478b-9e2d-c9ccf3bc1dbd",
   "metadata": {},
   "outputs": [
    {
     "data": {
      "text/plain": [
       "array([ 0.07244019, -1.6770983 ,  1.3112477 ], dtype=float32)"
      ]
     },
     "execution_count": 13,
     "metadata": {},
     "output_type": "execute_result"
    }
   ],
   "source": [
    "x/0.529177210903"
   ]
  },
  {
   "cell_type": "code",
   "execution_count": null,
   "id": "0a2faa45-429f-493d-910c-1c6ee6b542e5",
   "metadata": {},
   "outputs": [],
   "source": []
  }
 ],
 "metadata": {
  "kernelspec": {
   "display_name": "Python 3 (ipykernel)",
   "language": "python",
   "name": "python3"
  },
  "language_info": {
   "codemirror_mode": {
    "name": "ipython",
    "version": 3
   },
   "file_extension": ".py",
   "mimetype": "text/x-python",
   "name": "python",
   "nbconvert_exporter": "python",
   "pygments_lexer": "ipython3",
   "version": "3.12.4"
  }
 },
 "nbformat": 4,
 "nbformat_minor": 5
}
